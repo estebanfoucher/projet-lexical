{
 "cells": [
  {
   "cell_type": "markdown",
   "metadata": {},
   "source": [
    "# Solveur de mots-fléchés"
   ]
  },
  {
   "cell_type": "markdown",
   "metadata": {},
   "source": [
    "Un jeu"
   ]
  },
  {
   "cell_type": "code",
   "execution_count": 33,
   "metadata": {},
   "outputs": [],
   "source": [
    "from mots_fleches import *\n"
   ]
  },
  {
   "cell_type": "markdown",
   "metadata": {},
   "source": [
    "Lexique"
   ]
  },
  {
   "cell_type": "code",
   "execution_count": 44,
   "metadata": {},
   "outputs": [
    {
     "data": {
      "text/plain": [
       "'\\nclass Lexique(list):\\n    def ...\\n'"
      ]
     },
     "execution_count": 44,
     "metadata": {},
     "output_type": "execute_result"
    }
   ],
   "source": [
    "\"\"\"\n",
    "class Lexique(list):\n",
    "    def ...\n",
    "\"\"\""
   ]
  },
  {
   "cell_type": "markdown",
   "metadata": {},
   "source": [
    "premier test"
   ]
  },
  {
   "cell_type": "code",
   "execution_count": 40,
   "metadata": {},
   "outputs": [
    {
     "name": "stdout",
     "output_type": "stream",
     "text": [
      "['Malade', 'souffrant', 'fou', 'maladif', 'piqué', 'fatigué', 'toqué', 'timbré', 'cinglé', 'gâté', 'mauvais', 'souffreteux', 'pourri', 'malsain', 'cacochyme', 'aliéné', 'égrotant', 'valétudinaire', 'patraque', 'patient', 'morbide', 'détraqué', 'dérangé', 'abattu', 'malingre', 'mal en point', 'infirme', 'indisposé', 'incommodé', 'foutu', 'fiévreux', 'chétif', 'avarié', 'atteint', 'anéanti', 'rachitique', 'pâle', 'perturbé', 'mal foutu', 'mal fichu', 'raide', 'retourné', 'révolutionné', 'secoué', 'sonné', 'sujet', 'traumatisé', 'mal', 'maboul', 'lépreux', 'alité', 'altéré', 'anormal', 'client', 'dingue', 'dolent', 'démoli', 'déprimé', 'désaxé', 'fada', 'grabataire', 'gâteux', 'vicié']\n",
      "[('raper', 1), ('raler', 1), ('rager', 1), ('ravir', 0), ('radar', 0), ('rader', 0), ('ramer', 0), ('rayer', 0), ('raser', 0), ('rater', 0)]\n"
     ]
    }
   ],
   "source": [
    "mask = Mask(\"ra__r\")\n",
    "question = \"Malade\"\n",
    "\n",
    "print(Lexique(lexpp).filter_by_mask(mask).order_by_def_1(question))"
   ]
  },
  {
   "cell_type": "markdown",
   "metadata": {},
   "source": [
    "filtrer"
   ]
  },
  {
   "cell_type": "code",
   "execution_count": 41,
   "metadata": {},
   "outputs": [
    {
     "data": {
      "text/plain": [
       "['ravir',\n",
       " 'radar',\n",
       " 'raper',\n",
       " 'rader',\n",
       " 'ramer',\n",
       " 'rayer',\n",
       " 'raser',\n",
       " 'rater',\n",
       " 'raler',\n",
       " 'rager']"
      ]
     },
     "execution_count": 41,
     "metadata": {},
     "output_type": "execute_result"
    }
   ],
   "source": [
    "def filter_by_mask(self, mask):\n",
    "        filtered_lexique = Lexique([])\n",
    "        for word in self:\n",
    "            if mask.is_compatible(word):\n",
    "                filtered_lexique.append(word)\n",
    "        return filtered_lexique\n",
    "\n",
    "mask = Mask(\"ra__r\")\n",
    "Lexique(lexpp).filter_by_mask(mask)"
   ]
  },
  {
   "cell_type": "markdown",
   "metadata": {},
   "source": [
    "trier\n"
   ]
  },
  {
   "cell_type": "code",
   "execution_count": null,
   "metadata": {},
   "outputs": [],
   "source": [
    "def order_by_def_0(self, question):\n",
    "\n",
    "        ordered_lexique = Lexique([])\n",
    "        for word in self:\n",
    "            dist = distance(question, get_definition(word))\n",
    "            ordered_lexique.append((word, dist))\n",
    "        \n",
    "        # sort list with key\n",
    "        ordered_lexique.sort(key=takeSecond, reverse=True)\n",
    "        return ordered_lexique\n",
    "\n",
    "mask = Mask(\"ra__r\")\n",
    "question = \"Malade\"\n",
    "\n",
    "print(Lexique(lexpp).filter_by_mask(mask).order_by_def_0(question))"
   ]
  },
  {
   "cell_type": "markdown",
   "metadata": {},
   "source": [
    "Des syonymes"
   ]
  },
  {
   "cell_type": "code",
   "execution_count": 28,
   "metadata": {},
   "outputs": [
    {
     "name": "stdout",
     "output_type": "stream",
     "text": [
      "['plan', 'dessin', 'carte', 'croquis', 'modèle', 'projet', 'étude', 'patron', 'fiche', 'cartable', 'portefeuille', 'paille', 'feuille', 'cartonnier', 'cartonnage', 'but', 'bristol', 'boîte', 'sous-main']\n"
     ]
    }
   ],
   "source": [
    "from requests import *\n",
    "from bs4 import BeautifulSoup\n",
    "\n",
    "def get_synonyms(word):\n",
    "    url = f\"https://www.cnrtl.fr/synonymie/{word}\"\n",
    "\n",
    "    html = get(url).text\n",
    "\n",
    "    soup = BeautifulSoup(html, 'html.parser')\n",
    "\n",
    "    L = soup.find(\"table\", {\"class\":\"light_frame\"}).find_all(\"a\")\n",
    "\n",
    "    G=[]\n",
    "    for elt in L:\n",
    "        G.append(elt.text)\n",
    "\n",
    "    return(G)\n",
    "\n",
    "print(get_synonyms(\"carton\"))"
   ]
  },
  {
   "cell_type": "markdown",
   "metadata": {},
   "source": [
    "Distances"
   ]
  },
  {
   "cell_type": "code",
   "execution_count": 38,
   "metadata": {},
   "outputs": [
    {
     "name": "stdout",
     "output_type": "stream",
     "text": [
      "2\n"
     ]
    }
   ],
   "source": [
    "def purify(line):\n",
    "    for char in line:\n",
    "        if char in \"?.,!/;:[]'\":\n",
    "            line = line.replace(char,'')\n",
    "    return line.lower()\n",
    "\n",
    "def distance(string1, string2):\n",
    "    \n",
    "    str2 = purify(string2)\n",
    "    str1 = purify(string1)\n",
    "    set1 = set(str1.split(\" \"))\n",
    "    set2 = set(str2.split(\" \"))\n",
    "    return len(set1 & set2)\n",
    "\n",
    "print(distance(\"do re mi fa sol ; la si !:;\", \"do re\"))"
   ]
  },
  {
   "cell_type": "code",
   "execution_count": null,
   "metadata": {},
   "outputs": [],
   "source": [
    "questions = [Question(\"beaucoup ou trop de gestes\", Mask(\"ge______er\"), (1, 0, 1, 'r')), Question(\"Manifester son mécontentement\", Mask(\"r__e_\"), (0, 10, 2, 'd'))]\n",
    "jeu = Jeu(questions, (6, 12))\n",
    "\n",
    "jeu.activate_questions()\n",
    "\n",
    "print(jeu)"
   ]
  }
 ],
 "metadata": {
  "kernelspec": {
   "display_name": "Python 3",
   "language": "python",
   "name": "python3"
  },
  "language_info": {
   "codemirror_mode": {
    "name": "ipython",
    "version": 3
   },
   "file_extension": ".py",
   "mimetype": "text/x-python",
   "name": "python",
   "nbconvert_exporter": "python",
   "pygments_lexer": "ipython3",
   "version": "3.8.3"
  }
 },
 "nbformat": 4,
 "nbformat_minor": 4
}
